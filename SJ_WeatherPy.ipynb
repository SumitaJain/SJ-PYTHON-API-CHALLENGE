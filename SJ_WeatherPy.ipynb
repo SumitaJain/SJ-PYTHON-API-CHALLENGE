{
 "cells": [
  {
   "cell_type": "markdown",
   "metadata": {},
   "source": [
    "# WeatherPy\n",
    "----\n",
    "\n",
    "#### Note\n",
    "* Instructions have been included for each segment. You do not have to follow them exactly, but they are included to help you think through the steps."
   ]
  },
  {
   "cell_type": "code",
   "execution_count": 1,
   "metadata": {
    "scrolled": true
   },
   "outputs": [],
   "source": [
    "# Dependencies and Setup\n",
    "import matplotlib.pyplot as plt\n",
    "import pandas as pd\n",
    "import numpy as np\n",
    "import requests\n",
    "import time\n",
    "import openweathermapy.core as owm\n",
    "\n",
    "# Import API key\n",
    "from SJ_config import api_key\n",
    "\n",
    "# Incorporated citipy to determine city based on latitude and longitude\n",
    "from citipy import citipy\n",
    "\n",
    "# Output File (CSV)\n",
    "output_data_file = \"output_data/cities.csv\"\n",
    "\n",
    "# Range of latitudes and longitudes\n",
    "lat_range = (-90, 90)\n",
    "lng_range = (-180, 180)"
   ]
  },
  {
   "cell_type": "markdown",
   "metadata": {},
   "source": [
    "## Generate Cities List"
   ]
  },
  {
   "cell_type": "code",
   "execution_count": 2,
   "metadata": {},
   "outputs": [
    {
     "data": {
      "text/plain": [
       "588"
      ]
     },
     "execution_count": 2,
     "metadata": {},
     "output_type": "execute_result"
    }
   ],
   "source": [
    "# List for holding lat_lngs and cities\n",
    "lat_lngs = []\n",
    "cities = []\n",
    "\n",
    "# Create a set of random lat and lng combinations\n",
    "lats = np.random.uniform(low=-90.000, high=90.000, size=1500)\n",
    "lngs = np.random.uniform(low=-180.000, high=180.000, size=1500)\n",
    "lat_lngs = zip(lats, lngs)\n",
    "\n",
    "# Identify nearest city for each lat, lng combination\n",
    "for lat_lng in lat_lngs:\n",
    "    city = citipy.nearest_city(lat_lng[0], lat_lng[1]).city_name\n",
    "    \n",
    "    # If the city is unique, then add it to a our cities list\n",
    "    if city not in cities:\n",
    "        cities.append(city)\n",
    "    \n",
    "# cities_df = pd.DataFrame(city_number, cities)\n",
    "cities_df = pd.DataFrame(cities)\n",
    "cities_df.tail()\n",
    "\n",
    "# Print the city count to confirm sufficient count\n",
    "len(cities)\n",
    "# print(cities)"
   ]
  },
  {
   "cell_type": "code",
   "execution_count": 3,
   "metadata": {},
   "outputs": [
    {
     "data": {
      "text/html": [
       "<div>\n",
       "<style scoped>\n",
       "    .dataframe tbody tr th:only-of-type {\n",
       "        vertical-align: middle;\n",
       "    }\n",
       "\n",
       "    .dataframe tbody tr th {\n",
       "        vertical-align: top;\n",
       "    }\n",
       "\n",
       "    .dataframe thead th {\n",
       "        text-align: right;\n",
       "    }\n",
       "</style>\n",
       "<table border=\"1\" class=\"dataframe\">\n",
       "  <thead>\n",
       "    <tr style=\"text-align: right;\">\n",
       "      <th></th>\n",
       "      <th>0</th>\n",
       "    </tr>\n",
       "  </thead>\n",
       "  <tbody>\n",
       "    <tr>\n",
       "      <th>kitob</th>\n",
       "      <td>660</td>\n",
       "    </tr>\n",
       "    <tr>\n",
       "      <th>okhotsk</th>\n",
       "      <td>661</td>\n",
       "    </tr>\n",
       "    <tr>\n",
       "      <th>tsabong</th>\n",
       "      <td>662</td>\n",
       "    </tr>\n",
       "    <tr>\n",
       "      <th>crab hill</th>\n",
       "      <td>663</td>\n",
       "    </tr>\n",
       "    <tr>\n",
       "      <th>sarai</th>\n",
       "      <td>664</td>\n",
       "    </tr>\n",
       "  </tbody>\n",
       "</table>\n",
       "</div>"
      ],
      "text/plain": [
       "             0\n",
       "kitob      660\n",
       "okhotsk    661\n",
       "tsabong    662\n",
       "crab hill  663\n",
       "sarai      664"
      ]
     },
     "execution_count": 3,
     "metadata": {},
     "output_type": "execute_result"
    }
   ],
   "source": [
    "\n",
    "## The API call will require me to break up the list of cities into smaller groups (Free API <60 calls per minute)\n",
    "## So, adding another column to the dataframe (city_number) so that I can use that to break the df\n",
    "\n",
    "# List for holding lat_lngs and cities\n",
    "lat_lngs = []\n",
    "cities = []\n",
    "city_number = []\n",
    "\n",
    "# Create a set of random lat and lng combinations\n",
    "lats = np.random.uniform(low=-90.000, high=90.000, size=1500)\n",
    "lngs = np.random.uniform(low=-180.000, high=180.000, size=1500)\n",
    "lat_lngs = zip(lats, lngs)\n",
    "\n",
    "# Identify nearest city for each lat, lng combination; also add a column with City Number\n",
    "for lat_lng in lat_lngs:\n",
    "    city = citipy.nearest_city(lat_lng[0], lat_lng[1]).city_name\n",
    "    \n",
    "    # If the city is unique, then add it to a our cities list\n",
    "    if city not in cities:\n",
    "        cities.append(city)\n",
    "        city_number.append(len(cities))        \n",
    "\n",
    "cities_df = pd.DataFrame(city_number, cities)\n",
    "# cities_df = pd.DataFrame(cities)\n",
    "cities_df.tail()\n",
    "\n",
    "## Tried to use the city_number column to break the df into a smaller df (am running into API size constraints)\n",
    "## Getting key error when I run the .loc line below. Have tried a few other variants to no avail  \n",
    "\n",
    "# cities1_df = cities_df.loc[cities_df['city_number'] <= 50]\n",
    "# cities1_df.tail()\n",
    "\n",
    "### Another try using the help of Google - No luck\n",
    "# df_new1, df_new2 = cities_df[:10, :], cities_df[10:, :] if len(cities_df) > 10 else cities_df, None"
   ]
  },
  {
   "cell_type": "code",
   "execution_count": 4,
   "metadata": {},
   "outputs": [],
   "source": [
    "# Manually breaking the list of cities <print(cities)> into 12 lists so that I can make fewer than 60 API calls at a time\n",
    "# cities_1 = ['takoradi', 'busselton', 'cape town', 'lata', 'kapaa', 'nome', 'butaritari', 'santa maria', 'bredasdorp', 'prince rupert', 'isangel', 'pingliang', 'kaitangata', 'vao', 'bay roberts', 'clyde river', 'tuatapere', 'lacey', 'port hedland', 'carnarvon', 'castro', 'onguday', 'chagda', 'ribeira grande', 'palmer', 'sur', 'albany', 'punta arenas', 'jamestown', 'palmeira', 'birao', 'leningradskiy', 'illoqqortoormiut', 'bethel', 'show low', 'fairbanks', 'ushuaia', 'beloha', 'loukhi', 'mar del plata', 'rikitea', 'sao joao da barra', 'bluff', 'hilo', 'karratha', 'baracoa', 'port alfred', 'bestobe', 'talnakh', 'dawei', 'hualmay', 'tuktoyaktuk', 'abu zabad', 'hobart', 'palafrugell']\n",
    "# cities_2 = ['flinders', 'celestun', 'tidore', 'amazar', 'tura', 'estelle', 'goba', 'dikson', 'amot', 'anamur', 'tiksi', 'bengkulu', 'kegayli', 'atuona', 'wadi maliz', 'houma', 'tombouctou', 'sao francisco do sul', 'solovetskiy', 'nikolskoye', 'pisco', 'lazaro cardenas', 'hamilton', 'bambous virieux', 'turukhansk', 'sao filipe', 'cockburn town', 'tabivere', 'christchurch', 'chuy', 'lavrentiya', 'dekalb', 'bathsheba', 'iskitim', 'jipijapa', 'touros', 'fort-shevchenko', 'saint-philippe', 'urengoy', 'freeport', 'san rafael', 'dingle', 'yerraguntla', 'kamaishi', 'belushya guba', 'jiroft', 'dalinghe', 'san cristobal', 'buzmeyin', 'le portel', 'mayo', 'rolim de moura', 'vaitupu', 'chapais', 'hervey bay']\n",
    "# cities_3 = ['warqla', 'coihaique', 'inirida', 'mackay', 'changping', 'tyukhtet','xingyi', 'severo-kurilsk', 'xiongzhou', 'campbell river', 'saint anthony', 'petropavlovsk-kamchatskiy', 'aloleng', 'sitka', 'jacareacanga', 'pevek', 'bantogon', 'sentyabrskiy', 'lima duarte', 'monte patria', 'rungata', 'eskasem', 'gizo', 'makakilo city', 'bonnyville', 'fortuna', 'luderitz', 'cairns', 'tomatlan', 'tasiilaq', 'tumannyy', 'oistins', 'acajutla', 'guskhara', 'san francisco del mar', 'limoeiro do norte', 'faanui', 'lasa', 'port blair', 'codrington', 'kerteh', 'turbat', 'avera', 'dedovichi', 'hihifo', 'livingston', 'provideniya', 'nizhneyansk', 'kodiak', 'mana', 'san ignacio', 'saldanha', 'kadykchan', 'dhidhdhoo', 'olinda']\n",
    "# cities_4 = ['fort nelson', 'melo', 'buala', 'bejar', 'hat yai', 'taltal', 'zvishavane', 'barroualie', 'willmar', 'iqaluit', 'ingham', 'gat', 'sosnovka', 'sidi bu zayd', 'erzin', 'leshukonskoye', 'athabasca', 'thompson', 'kyabe', 'saleaula', 'north bend', 'mount isa', 'kupang', 'winneba', 'bilibino', 'sarangani', 'katangli', 'nara', 'santa isabel do rio negro', 'saskylakh', 'hami', 'elizabeth city', 'surman', 'padang', 'constitucion', 'ostrovnoy', 'san luis', 'waingapu', 'paamiut', 'homer', 'henties bay', 'mersing', 'bocaranga', 'poronaysk', 'raudeberg', 'saint simons', 'hoi an', 'hays', 'sawakin', 'ilulissat', 'morro bay', 'port lincoln', 'santa fe', 'mrirt', 'chamalieres', 'kazalinsk', 'saint george', 'liusha']\n",
    "# cities_5 = ['balkanabat', 'chibuto', 'ambulu', 'madimba', 'lufilufi', 'nouadhibou', 'severnyy', 'gravdal', 'cabras', 'saint-augustin', 'sosnovo-ozerskoye', 'elliot', 'agua branca', 'husavik', 'mizdah', 'kuche', 'escanaba', 'arlit', 'sao francisco de assis', 'uniontown', 'zhuanghe', 'listvyanskiy', 'mazagao', 'yirol', 'khandyga', 'narodychi', 'te anau', 'svetlaya', 'muros', 'frankfort', 'half moon bay', 'rabnita', 'auki', 'krasnyy oktyabr', 'porvoo', 'arcata', 'lorengau', 'kinel', 'kitimat', 'faya', 'mayor pablo lagerenza', 'port shepstone', 'barra do garcas', 'poya', 'ust-kan', 'temaraia', 'tazovskiy', 'bahia blanca', 'artyk', 'amderma', 'necochea', 'ucluelet', 'bath', 'burica', 'margate', 'uruzgan', 'blind river']\n",
    "# cities_6 = ['itarema', 'cayenne', 'vicuna', 'ararat', 'san vicente', 'tarpon springs', 'kaeo', 'puerto penasco', 'mantua', 'port hawkesbury', 'rio cuarto', 'grenville', 'padilla', 'pahrump', 'rawannawi', 'mera', 'bandarbeyla', 'ngukurr', 'haysville', 'alenquer', 'saint-paul', 'narayanganj', 'sainte-suzanne', 'grand gaube', 'bodden town', 'roald', 'bundaberg', 'adre', 'labutta', 'ust-kuyga', 'andrelandia', 'bonavista', 'kaltasy', 'srednekolymsk', 'chifeng', 'clarence town', 'gornopravdinsk', 'rawson', 'namibe', 'vardo', 'carutapera', 'boca do acre', 'zalantun', 'broken hill', 'teotitlan', 'kidal', 'nanortalik', 'tessalit', 'lichuan', 'luleburgaz', 'pimentel', 'kachug', 'mehamn', 'airai', 'sataua', 'phan rang', 'lagoa', 'andenes']\n",
    "# cities_7 = ['port hueneme', 'port macquarie', 'taicheng', 'narsaq', 'tabiauea', 'naze', 'grande prairie', 'jahanabad', 'kangaba', 'honningsvag', 'tchollire', 'champerico', 'macaboboni', 'sola', 'sorvag', 'marawi', 'neuquen', 'ilmajoki', 'kaohsiung', 'novyy urgal', 'skalistyy', 'asyut', 'teguise', 'adrar', 'ambilobe', 'samarai', 'gobabis', 'zalesovo', 'ijaki', 'sabla', 'udachnyy', 'flin flon', 'umm lajj', 'szczecinek', 'jagalur', 'kailua', 'seekonk', 'nossa senhora das dores', 'brus laguna', 'zaria', 'houlton', 'andarab', 'hailar', 'coquimbo', 'tucurui', 'sterling', 'mitsamiouli', 'palauig', 'vysokogornyy', 'acarau', 'pavlivka', 'mangai', 'gazli', 'abu kamal', 'ilhabela']\n",
    "# cities_8 = ['kolyvan', 'tres arroyos', 'nuuk', 'bertoua', 'taber', 'dumai', 'ashland', 'laguna', 'sokolow podlaski', 'gulu', 'quang ngai', 'barsuki', 'sergeyevka', 'brokopondo', 'marsa matruh', 'la palma', 'cumberland', 'port hardy', 'san quintin', 'leninsk', 'makinsk', 'simbahan', 'cartagena', 'kholmogory', 'vanimo', 'ixtapa', 'bargal', 'pangai', 'morgan city', 'wote', 'nishihara']\n",
    "# cities_9 = ['anloga', 'dongsheng', 'aksarka', 'deputatskiy', 'olga', 'zyryanovsk', 'conde', 'mandiana', 'ahipara', 'usak', 'manmad', 'miraflores', 'berbera', 'bugulma', 'kazachinskoye', 'yar-sale', 'palabuhanratu', 'deniliquin', 'bilma', 'cherskiy', 'aden', 'ust-koksa', 'saint-georges', 'polunochnoye', 'kavieng', 'feijo', 'iztapa', 'sibolga', 'dunedin', 'acapulco', 'clinton', 'olafsvik', 'goldsboro', 'ajdabiya', 'khilok', 'evensk', 'lyskovo', 'dickinson', 'cap malheureux', 'eirunepe']\n",
    "# cities_10 = ['nabire', 'sioux lookout', 'haines junction', 'tekeli', 'asosa', 'vila velha', 'yomou', 'victoria', 'seoul', 'lapeer', 'okhotsk', 'palm coast', 'tilichiki', 'kerki', 'mys shmidta', 'lompoc', 'quesnel', 'puerto ayora', 'kobelyaky', 'mandurah', 'mandalgovi', 'kabo', 'macas', 'lashio', 'tromso', 'sao luiz gonzaga', 'hasaki', 'attawapiskat', 'copiapo', 'hermanus', 'barentsburg', 'mataura', 'taolanaro', 'barrow', 'georgetown', 'kihei', 'klaksvik', 'klyuchi', 'yellowknife', 'neiafu', 'mahebourg', 'aksu', 'esperance', 'khatanga', 'udalguri', 'dharchula', 'geraldton', 'aksehir', 'east london', 'souillac', 'cidreira', 'praia', 'vaini', 'kruisfontein', 'avarua', 'japura', 'northam']\n",
    "# cities_11 = ['tirano', 'vanavara', 'toliary', 'ust-nera', 'gannan', 'bure', 'semey', 'iquitos', 'dandong', 'caravelas', 'mahaicony', 'cacapava do sul', 'csorna', 'san policarpo', 'kilindoni', 'alofi', 'gambo', 'mehran', 'vila franca do campo', 'qasigiannguit', 'hay river', 'pangnirtung', 'homa bay', 'ponta do sol', 'zhigansk', 'guerrero negro', 'richards bay', 'tuchola', 'san patricio', 'upernavik', 'tsihombe', 'visnes', 'lokosovo', 'inhambane', 'jizan', 'puerto suarez', 'sao gabriel da cachoeira', 'grand river south east', 'xinqing', 'kavaratti', 'enshi', 'kloulklubed', 'trincomalee', 'mahadday weyne']\n",
    "# cities_12 = ['khormuj', 'sim', 'umzimvubu', 'lebu', 'norman wells', 'port augusta', 'atambua', 'semporna', 'longyearbyen', 'bac lieu', 'broome', 'novomikhaylovskiy', 'arraial do cabo', 'oudtshoorn', 'mount gambier', 'anadyr', 'chokurdakh', 'angoche', 'katsuura', 'sorland', 'palana', 'port elizabeth', 'asau', 'torbay', 'dovhe', 'qaanaaq', 'bubaque', 'korla', 'new norfolk', 'tabuk', 'lafia', 'andros town', 'oranjemund', 'uyuni', 'gambela', 'mocambique', 'hithadhoo', 'benguela']\n",
    "# len(cities_1)\n"
   ]
  },
  {
   "cell_type": "markdown",
   "metadata": {},
   "source": [
    "# Perform API Calls\n",
    "* Perform a weather check on each city using a series of successive API calls.\n",
    "* Include a print log of each city as it'sbeing processed (with the city number and city name).\n"
   ]
  },
  {
   "cell_type": "code",
   "execution_count": 5,
   "metadata": {},
   "outputs": [],
   "source": [
    "## First going to do the remaining exercise with a short list of cities to make sure the API query works correctly.\n",
    "url = \"http://api.openweathermap.org/data/2.5/weather?\"\n",
    "units = \"imperial\"\n",
    "query_url = f\"{url}appid={api_key}&units={units}&q=\"\n",
    "\n",
    "# New short cities list just to check whether this will work\n",
    "cities_test = [\"London\", \"Paris\", \"Las Vegas\", \"Stockholm\", \"Sydney\", \"Hong Kong\", 'port hueneme', \n",
    "               'port macquarie', 'taicheng', 'naze', 'grande prairie', 'Coihaique', 'Hobart', 'Port Moresby']\n",
    "\n",
    "# list for response results\n",
    "lat = []\n",
    "max_temp = []\n",
    "humidity = []\n",
    "cloudiness = []\n",
    "wind_speed = []\n",
    "\n",
    "## loop through cities, make API request, and append desired results\n",
    "for city in cities_test:\n",
    "    response = requests.get(query_url + city).json()\n",
    "    lat.append(response['coord']['lat'])\n",
    "    max_temp.append(response['main']['temp_max'])\n",
    "    humidity.append(response['main']['humidity'])\n",
    "    cloudiness.append(response['clouds']['all'])\n",
    "    wind_speed.append(response['wind']['speed'])\n",
    "    \n",
    "# # It works.  Was able to generate all the scatter plots with these cities."
   ]
  },
  {
   "cell_type": "code",
   "execution_count": 6,
   "metadata": {},
   "outputs": [],
   "source": [
    "## Now adding another short list of cities to see whether I can add a 15 second time lag between two API calls. \n",
    "## With the real city lists, will use 65 seconds (needs to be more than 1 minute)\n",
    "\n",
    "time.sleep(15)\n",
    "\n",
    "cities_t2 = [\"Delhi\", \"Johannesburg\", \"Copenhagen\", \"Lima\", \"Baltimore\", \"Vancouver\", \"Tromso\", \n",
    "             'takoradi', 'busselton', 'cape town', 'lata', 'kapaa', 'nome', 'butaritari', \n",
    "             'santa maria', 'bredasdorp', 'prince rupert']\n",
    "\n",
    "for city in cities_t2:\n",
    "    response = requests.get(query_url + city).json()\n",
    "    lat.append(response['coord']['lat'])\n",
    "    max_temp.append(response['main']['temp_max'])\n",
    "    humidity.append(response['main']['humidity'])\n",
    "    cloudiness.append(response['clouds']['all'])\n",
    "    wind_speed.append(response['wind']['speed'])\n",
    "\n",
    "## Worked! So, I should be able to use this recurring method for the 12 city lists.  "
   ]
  },
  {
   "cell_type": "markdown",
   "metadata": {},
   "source": [
    "SJ NOTE:\n",
    "- Tried to run the code above for the different city lists (cities_1, cities_2, .... cities_12) but kept getting an error on coordinates. <lat.append(response['coord']['lat'])> fails. \n",
    "\n",
    "- Am assuming that not all cities from CitiPy are found on Open Weather.\n",
    "\n",
    "- Tried to insert an IF statement so that the code would continue to compile if it didn't find a city\n",
    "<if response['coord']['lat'] == \"\" next city> didn't work. A couple of alternatives didn't work either.\n",
    "\n",
    "- The remainder of this workbook is based on just the cities in cities_test and cities_t2"
   ]
  },
  {
   "cell_type": "markdown",
   "metadata": {},
   "source": [
    "### Convert Raw Data to DataFrame\n",
    "* Export the city data into a .csv.\n",
    "* Display the DataFrame"
   ]
  },
  {
   "cell_type": "code",
   "execution_count": 7,
   "metadata": {},
   "outputs": [
    {
     "data": {
      "text/html": [
       "<div>\n",
       "<style scoped>\n",
       "    .dataframe tbody tr th:only-of-type {\n",
       "        vertical-align: middle;\n",
       "    }\n",
       "\n",
       "    .dataframe tbody tr th {\n",
       "        vertical-align: top;\n",
       "    }\n",
       "\n",
       "    .dataframe thead th {\n",
       "        text-align: right;\n",
       "    }\n",
       "</style>\n",
       "<table border=\"1\" class=\"dataframe\">\n",
       "  <thead>\n",
       "    <tr style=\"text-align: right;\">\n",
       "      <th></th>\n",
       "      <th>Latitude</th>\n",
       "      <th>Max Temp</th>\n",
       "      <th>Humidity</th>\n",
       "      <th>Cloudiness</th>\n",
       "      <th>Wind Speed</th>\n",
       "    </tr>\n",
       "  </thead>\n",
       "  <tbody>\n",
       "    <tr>\n",
       "      <th>26</th>\n",
       "      <td>30.04</td>\n",
       "      <td>59.00</td>\n",
       "      <td>58</td>\n",
       "      <td>1</td>\n",
       "      <td>2.80</td>\n",
       "    </tr>\n",
       "    <tr>\n",
       "      <th>27</th>\n",
       "      <td>3.07</td>\n",
       "      <td>84.25</td>\n",
       "      <td>63</td>\n",
       "      <td>77</td>\n",
       "      <td>1.50</td>\n",
       "    </tr>\n",
       "    <tr>\n",
       "      <th>28</th>\n",
       "      <td>-16.02</td>\n",
       "      <td>78.80</td>\n",
       "      <td>50</td>\n",
       "      <td>14</td>\n",
       "      <td>3.36</td>\n",
       "    </tr>\n",
       "    <tr>\n",
       "      <th>29</th>\n",
       "      <td>-34.53</td>\n",
       "      <td>64.00</td>\n",
       "      <td>82</td>\n",
       "      <td>100</td>\n",
       "      <td>12.75</td>\n",
       "    </tr>\n",
       "    <tr>\n",
       "      <th>30</th>\n",
       "      <td>54.32</td>\n",
       "      <td>51.80</td>\n",
       "      <td>81</td>\n",
       "      <td>90</td>\n",
       "      <td>11.41</td>\n",
       "    </tr>\n",
       "  </tbody>\n",
       "</table>\n",
       "</div>"
      ],
      "text/plain": [
       "    Latitude  Max Temp  Humidity  Cloudiness  Wind Speed\n",
       "26     30.04     59.00        58           1        2.80\n",
       "27      3.07     84.25        63          77        1.50\n",
       "28    -16.02     78.80        50          14        3.36\n",
       "29    -34.53     64.00        82         100       12.75\n",
       "30     54.32     51.80        81          90       11.41"
      ]
     },
     "execution_count": 7,
     "metadata": {},
     "output_type": "execute_result"
    }
   ],
   "source": [
    "# build a dataframe \n",
    "weather_data = {\"Latitude\": lat, \"Max Temp\": max_temp, \"Humidity\": humidity, \"Cloudiness\": cloudiness, \"Wind Speed\": wind_speed}\n",
    "weather_data = pd.DataFrame(weather_data)\n",
    "weather_data.tail()"
   ]
  },
  {
   "cell_type": "markdown",
   "metadata": {},
   "source": [
    "### Plotting the Data\n",
    "* Use proper labeling of the plots using plot titles (including date of analysis) and axes labels.\n",
    "* Save the plotted figures as .pngs."
   ]
  },
  {
   "cell_type": "markdown",
   "metadata": {},
   "source": [
    "#### Latitude vs. Temperature Plot"
   ]
  },
  {
   "cell_type": "code",
   "execution_count": 8,
   "metadata": {},
   "outputs": [
    {
     "data": {
      "image/png": "[encoded data removed]",
      "text/plain": [
       "<Figure size 432x288 with 1 Axes>"
      ]
     },
     "metadata": {
      "needs_background": "light"
     },
     "output_type": "display_data"
    }
   ],
   "source": [
    "# Build a scatter plot for each data type\n",
    "plt.scatter(weather_data[\"Latitude\"], weather_data[\"Max Temp\"], marker=\"o\", edgecolors=\"black\")\n",
    "\n",
    "# Incorporate the other graph properties\n",
    "plt.title(\"City Latitude vs. Max Temperature on November 9, 2019\")\n",
    "plt.ylabel(\"Temperature (Fahrenheit)\")\n",
    "plt.xlabel(\"Latitude\")\n",
    "plt.grid(True)\n",
    "\n",
    "# Save the figure\n",
    "plt.savefig(\"Lat_and_Temps.png\")\n",
    "\n",
    "# Show plot\n",
    "plt.show()"
   ]
  },
  {
   "cell_type": "markdown",
   "metadata": {},
   "source": [
    "#### Latitude vs. Humidity Plot"
   ]
  },
  {
   "cell_type": "code",
   "execution_count": 9,
   "metadata": {},
   "outputs": [
    {
     "data": {
      "image/png": "[encoded data removed]",
      "text/plain": [
       "<Figure size 432x288 with 1 Axes>"
      ]
     },
     "metadata": {
      "needs_background": "light"
     },
     "output_type": "display_data"
    }
   ],
   "source": [
    "plt.scatter(weather_data[\"Latitude\"], weather_data[\"Humidity\"], marker=\"d\", alpha = .5, color=\"purple\", edgecolors=\"black\")\n",
    "plt.title(\"City Latitude vs. Humidity on November 9, 2019\")\n",
    "plt.ylabel(\"Percent Humidity\")\n",
    "plt.xlabel(\"Latitude\")\n",
    "plt.grid(True)\n",
    "\n",
    "plt.savefig(\"Lat_and_humidity.png\")\n",
    "plt.show()"
   ]
  },
  {
   "cell_type": "markdown",
   "metadata": {},
   "source": [
    "#### Latitude vs. Cloudiness Plot"
   ]
  },
  {
   "cell_type": "code",
   "execution_count": 10,
   "metadata": {},
   "outputs": [
    {
     "data": {
      "image/png": "[encoded data removed]",
      "text/plain": [
       "<Figure size 432x288 with 1 Axes>"
      ]
     },
     "metadata": {
      "needs_background": "light"
     },
     "output_type": "display_data"
    }
   ],
   "source": [
    "plt.scatter(weather_data[\"Latitude\"], weather_data[\"Cloudiness\"], marker=\"v\", color=\"red\", edgecolors=\"black\")\n",
    "plt.title(\"City Latitude vs. Cloudiness on November 9, 2019\")\n",
    "plt.ylabel(\"% Cloudiness\")\n",
    "plt.xlabel(\"Latitude\")\n",
    "plt.grid(True)\n",
    "\n",
    "plt.savefig(\"Lat_and_cloudiness.png\")\n",
    "plt.show()"
   ]
  },
  {
   "cell_type": "markdown",
   "metadata": {},
   "source": [
    "#### Latitude vs. Wind Speed Plot"
   ]
  },
  {
   "cell_type": "code",
   "execution_count": 11,
   "metadata": {},
   "outputs": [
    {
     "data": {
      "image/png": "[encoded data removed]",
      "text/plain": [
       "<Figure size 432x288 with 1 Axes>"
      ]
     },
     "metadata": {
      "needs_background": "light"
     },
     "output_type": "display_data"
    }
   ],
   "source": [
    "plt.scatter(weather_data[\"Latitude\"], weather_data[\"Wind Speed\"], marker=\">\", color=\"green\", edgecolors=\"black\")\n",
    "plt.title(\"City Latitude vs. Wind Speed on November 9, 2019\")\n",
    "plt.ylabel(\"Wind Speed (mph)\")\n",
    "plt.xlabel(\"Latitude\")\n",
    "plt.grid(True)\n",
    "\n",
    "plt.savefig(\"Lat_and_windiness.png\")\n",
    "plt.show()"
   ]
  },
  {
   "cell_type": "markdown",
   "metadata": {},
   "source": [
    "SJ FINDINGS SUMMARY: \n",
    "- The  cities examined range from -45 to +70 latitude\n",
    "- Max temperatures plot: \n",
    "    - The fact that the southern hemisphere (negative latitude) is in summer whereas the northern hemisphere is in winter is clear based on the maximum temperatures. Also, the further away from the equator, the lower the max temperatures.\n",
    "    - However, nearness to the equator matters and the northern hemisphere cities closest to the equator (lat = 0) have maximum temperatures that are similar to southern hemisphere cities that are close to the equator.\n",
    "- Humidity and Cloudiness plots:\n",
    "    - On November 9, 2019, at the time of the query, cities with latitudes between 50 and 60 were facing 80-100% humidity. These cities were also the cloudiest of the cities examined.\n",
    "    - There don't appear to be strong latitude-based trends for either humidity or cloudiness.\n",
    "- Wind Speed:\n",
    "    - Roughly 13% (4/31) of the cities examined were facing winds of greater than 12.5 miles per hour at the time of the query.\n",
    "    - Wind speed doesn't appear to correlate with latitude."
   ]
  },
  {
   "cell_type": "code",
   "execution_count": null,
   "metadata": {},
   "outputs": [],
   "source": []
  }
 ],
 "metadata": {
  "anaconda-cloud": {},
  "kernel_info": {
   "name": "python3"
  },
  "kernelspec": {
   "display_name": "Python 3",
   "language": "python",
   "name": "python3"
  },
  "language_info": {
   "codemirror_mode": {
    "name": "ipython",
    "version": 3
   },
   "file_extension": ".py",
   "mimetype": "text/x-python",
   "name": "python",
   "nbconvert_exporter": "python",
   "pygments_lexer": "ipython3",
   "version": "3.7.3"
  },
  "nteract": {
   "version": "0.12.3"
  }
 },
 "nbformat": 4,
 "nbformat_minor": 2
}
